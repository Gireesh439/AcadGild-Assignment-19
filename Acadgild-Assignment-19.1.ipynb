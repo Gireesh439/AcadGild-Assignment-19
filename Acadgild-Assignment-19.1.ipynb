{
 "cells": [
  {
   "cell_type": "code",
   "execution_count": null,
   "metadata": {},
   "outputs": [],
   "source": [
    "Assignment -19\n",
    "M.Gireesh Kumar\n"
   ]
  },
  {
   "cell_type": "code",
   "execution_count": null,
   "metadata": {},
   "outputs": [],
   "source": [
    "#Is gender independent of education level? A random sample of 395 people were surveyed and each\n",
    "#person was asked to report the highest education level they obtained. The data that resulted from the\n",
    "#survey is summarized in the following table:\n",
    "#       High School  Bachelors Masters  Ph.d. Total\n",
    " #Female  60            54                 46               41      201\n",
    "#Male    40             44                 53               57     194\n",
    "#Total  100  98 99  98 395\n",
    "#Question: Are gender and education level dependent at 5% level of significance? In other words,\n",
    "#given the data collected above, is there a relationship between the gender of an individual and the\n",
    "#level of education that they have obtained?"
   ]
  },
  {
   "cell_type": "code",
   "execution_count": null,
   "metadata": {},
   "outputs": [],
   "source": [
    "Here's the table of expected counts:\n",
    "       High School  Bachelors Masters  Ph.d. Total\n",
    "Female  50.886      49.868    50.377  49.868  201\n",
    "Male    49.114      48.132    48.623  48.132  194\n",
    "\n",
    "Total   100         98        99      98      395\n",
    "\n",
    "So, working this\n",
    "out, χ2=(60−50.886)2/50.886+⋯+(57−48.132)2/48.132=8.006χ2=(60−50.886)2/50.886+⋯+(57−48.1\n",
    "32)2/48.132=8.006 \n",
    "65 \n",
    "The critical value of χ2 with 3 degree of freedom is 7.815. Since 8.006 > 7.815, therefore we reject\n",
    "the null hypothesis and conclude that the education level depends on gender at a 5% level of\n",
    "significance.\n",
    "Using Minitab\n",
    "We can enter the data into Minitab and request that the "
   ]
  }
 ],
 "metadata": {
  "kernelspec": {
   "display_name": "Python 3",
   "language": "python",
   "name": "python3"
  },
  "language_info": {
   "codemirror_mode": {
    "name": "ipython",
    "version": 3
   },
   "file_extension": ".py",
   "mimetype": "text/x-python",
   "name": "python",
   "nbconvert_exporter": "python",
   "pygments_lexer": "ipython3",
   "version": "3.6.4"
  }
 },
 "nbformat": 4,
 "nbformat_minor": 2
}
